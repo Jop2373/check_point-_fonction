{
 "cells": [
  {
   "cell_type": "code",
   "execution_count": 24,
   "id": "8cda620a",
   "metadata": {},
   "outputs": [
    {
     "name": "stdout",
     "output_type": "stream",
     "text": [
      "saisir un nombre: 1,4,7,3\n",
      "7\n"
     ]
    }
   ],
   "source": [
    "# Question 1\n",
    "# methode 1\n",
    "def maxi_liste ():\n",
    "    \n",
    "    liste=[int(a) for a in input(\"saisir un nombre: \").split(\",\")]\n",
    "\n",
    "    max=0\n",
    "    for i in liste:\n",
    "        if i>max:\n",
    "            max=i\n",
    "    print(max)\n",
    "    \n",
    "maxi_liste()"
   ]
  },
  {
   "cell_type": "code",
   "execution_count": 5,
   "id": "6eadbca8",
   "metadata": {},
   "outputs": [
    {
     "data": {
      "text/plain": [
       "5"
      ]
     },
     "execution_count": 5,
     "metadata": {},
     "output_type": "execute_result"
    }
   ],
   "source": [
    "# autres methode question1\n",
    "def max_liste (q):\n",
    "    return max(q)\n",
    "\n",
    "max_liste([1,2,3,4,5])"
   ]
  },
  {
   "cell_type": "code",
   "execution_count": 9,
   "id": "7b85dd16",
   "metadata": {},
   "outputs": [
    {
     "name": "stdout",
     "output_type": "stream",
     "text": [
      "50 30\n"
     ]
    }
   ],
   "source": [
    "# Exercice2\n",
    "def calculer(a,b):\n",
    "    print(a+b,a-b)\n",
    "calculer(40,10)"
   ]
  },
  {
   "cell_type": "code",
   "execution_count": 7,
   "id": "c79fcaf5",
   "metadata": {},
   "outputs": [
    {
     "name": "stdout",
     "output_type": "stream",
     "text": [
      "saisir un nombre: 1,2,3,7,8\n"
     ]
    },
    {
     "data": {
      "text/plain": [
       "21"
      ]
     },
     "execution_count": 7,
     "metadata": {},
     "output_type": "execute_result"
    }
   ],
   "source": [
    "\n",
    "l=[int(a) for a in input(\"saisir un nombre: \").split(\",\")]\n",
    "def additionner(k):\n",
    "    s=0\n",
    "    for i in k:\n",
    "        s=s+i\n",
    "    return s\n",
    "\n",
    "additionner(l)"
   ]
  },
  {
   "cell_type": "code",
   "execution_count": 8,
   "id": "cf371eda",
   "metadata": {},
   "outputs": [
    {
     "data": {
      "text/plain": [
       "336"
      ]
     },
     "execution_count": 8,
     "metadata": {},
     "output_type": "execute_result"
    }
   ],
   "source": [
    "#question3\n",
    "#2\n",
    "def Multi(k):\n",
    "    s=1\n",
    "    for i in k:\n",
    "        s=s*i\n",
    "    return s\n",
    "\n",
    "Multi(l)"
   ]
  },
  {
   "cell_type": "code",
   "execution_count": 13,
   "id": "b1c55bab",
   "metadata": {},
   "outputs": [
    {
     "name": "stdout",
     "output_type": "stream",
     "text": [
      "[1, 3, 8]\n",
      "[2, 7]\n",
      "la somme des éléments avec une position pair est: 12\n",
      "le produit des éléments avec une position imapire est : 14\n"
     ]
    }
   ],
   "source": [
    "#question3\n",
    "#3\n",
    "l2=[l[i] for i in range(len(l)) if i%2==0]\n",
    "print(l2)\n",
    "l3=[l[i] for i in range(len(l)) if i%2==1]\n",
    "print(l3)\n",
    "\n",
    "print(\"la somme des éléments avec une position paire est de :\",additionner(l2))\n",
    "print(\"le produit des éléments avec une position impaire est de:\",Multi(l3))"
   ]
  },
  {
   "cell_type": "code",
   "execution_count": 52,
   "id": "09936964",
   "metadata": {},
   "outputs": [],
   "source": [
    "# question4 : ecrire une fonction qui affiche la premiere lettre de la valeur d'un dictionaire en majuscule\n",
    "# avec l'instruction return\n",
    "dicte={1:\"mangues\",2:\"Orange\",3:\"poireddddddd\"}\n"
   ]
  },
  {
   "cell_type": "code",
   "execution_count": 11,
   "id": "adbd07b1",
   "metadata": {},
   "outputs": [
    {
     "name": "stdout",
     "output_type": "stream",
     "text": [
      "poireddddddd\n"
     ]
    }
   ],
   "source": [
    "# Question 5: fonction qui retourne le mot le plus grand du dictionnaire\n",
    "\n",
    "dicte={1:\"mangues\",2:\"Orange\",3:\"poireddddddd\"}\n",
    "\n",
    "def plus_grand(f):\n",
    "    \n",
    "    z= list(f.values())\n",
    "    vide=\"\"\n",
    "    for j in z:\n",
    "        if len(j)>len(vide):\n",
    "            vide=j\n",
    "    print(j)\n",
    "    \n",
    "plus_grand(dicte)"
   ]
  },
  {
   "cell_type": "code",
   "execution_count": 13,
   "id": "c833bb40",
   "metadata": {},
   "outputs": [
    {
     "name": "stdout",
     "output_type": "stream",
     "text": [
      "saisir des couleurs :bleu-violet\"-marron-mauve\n",
      "['bleu', 'marron', 'mauve', 'violet\"']\n",
      "bleu-marron-mauve-violet\"\n"
     ]
    }
   ],
   "source": [
    "# Question N°6\n",
    "# q8= bleu-violet-marron-mauve\n",
    "\n",
    "q6=input(\"saisir des couleurs :\").split(\"-\")\n",
    "def separe_tiret(q):\n",
    "    q.sort()\n",
    "    print(q)\n",
    "    print(\"-\".join(q)) \n",
    "    \n",
    "separe_tiret(q6)"
   ]
  },
  {
   "cell_type": "code",
   "execution_count": 21,
   "id": "612edb3f",
   "metadata": {},
   "outputs": [
    {
     "name": "stdout",
     "output_type": "stream",
     "text": [
      "[18, 22, 24]\n"
     ]
    }
   ],
   "source": [
    "# Question7\n",
    "\n",
    "from math import sqrt\n",
    "D=[100,150,180]\n",
    "\n",
    "def formule(D):\n",
    "    C=50\n",
    "    H=30\n",
    "    q=[]\n",
    "    \n",
    "    for i in D:\n",
    "        q.append(round(sqrt((2*C*i)/H)))\n",
    "    print(q)\n",
    "        \n",
    "formule(D)    "
   ]
  }
 ],
 "metadata": {
  "kernelspec": {
   "display_name": "Python 3 (ipykernel)",
   "language": "python",
   "name": "python3"
  },
  "language_info": {
   "codemirror_mode": {
    "name": "ipython",
    "version": 3
   },
   "file_extension": ".py",
   "mimetype": "text/x-python",
   "name": "python",
   "nbconvert_exporter": "python",
   "pygments_lexer": "ipython3",
   "version": "3.9.13"
  }
 },
 "nbformat": 4,
 "nbformat_minor": 5
}
